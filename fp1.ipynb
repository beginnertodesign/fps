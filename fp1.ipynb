{
 "cells": [
  {
   "cell_type": "markdown",
   "source": [
    "Friendly problem-1:::\r\n",
    "\r\n",
    "There's a bank called as crackbreakers which is very known international famous bank trusted by lots of people. Now there's a situation facing by the bank where it provides a extra layer of security to their customer bank accounts and deduct some charges for this security from their bank balances. There are some accounts where balances are in -ve values, so the crackbreakers has decided to remove the -ve balance accounts help them to count the number of -ve balance accounts.\r\n",
    "\r\n",
    "I/p procedure::: \r\n",
    "\r\n",
    "First line contains no.of bank accounts\r\n",
    "Second line contains the balances of the accounts\r\n",
    "\r\n",
    "Ex case:::\r\n",
    "5\r\n",
    "1 2 -10 -2 -5\r\n",
    "\r\n",
    "O/p: 3\r\n",
    "\r\n",
    "Explanation:::\r\n",
    "\r\n",
    "In above example case the no.of -ve account balances are 3 those are -10,-2,-5 since count is 3.\r\n",
    "\r\n",
    "# Given below is a verification purpose only in python language try to answer the same in another programming language"
   ],
   "metadata": {}
  },
  {
   "cell_type": "markdown",
   "source": [
    "-----------------------------------------------------------------------------------------------------------------------------"
   ],
   "metadata": {}
  },
  {
   "cell_type": "markdown",
   "source": [
    "Declaring the required variables"
   ],
   "metadata": {}
  },
  {
   "cell_type": "code",
   "execution_count": 8,
   "source": [
    "no_of_accounts = int(input());\r\n",
    "account_balances_in_string = input();\r\n",
    "splitted_list = account_balances_in_string.split(\" \");\r\n",
    "negative_count = 0;"
   ],
   "outputs": [],
   "metadata": {}
  },
  {
   "cell_type": "markdown",
   "source": [
    "Using the for loop to check balances one by one and counting the -ve balance accounts "
   ],
   "metadata": {}
  },
  {
   "cell_type": "code",
   "execution_count": 9,
   "source": [
    "for i in range(0,no_of_accounts):\r\n",
    "    if int(splitted_list[i]) < 0:\r\n",
    "        negative_count = negative_count + 1;\r\n"
   ],
   "outputs": [],
   "metadata": {}
  },
  {
   "cell_type": "markdown",
   "source": [
    "Finally printing the count value of the -ve balance accounts"
   ],
   "metadata": {}
  },
  {
   "cell_type": "code",
   "execution_count": 10,
   "source": [
    "print(negative_count);"
   ],
   "outputs": [
    {
     "output_type": "stream",
     "name": "stdout",
     "text": [
      "5\n"
     ]
    }
   ],
   "metadata": {}
  }
 ],
 "metadata": {
  "orig_nbformat": 4,
  "language_info": {
   "name": "python",
   "version": "3.9.7",
   "mimetype": "text/x-python",
   "codemirror_mode": {
    "name": "ipython",
    "version": 3
   },
   "pygments_lexer": "ipython3",
   "nbconvert_exporter": "python",
   "file_extension": ".py"
  },
  "kernelspec": {
   "name": "python3",
   "display_name": "Python 3.9.7 64-bit (windows store)"
  },
  "interpreter": {
   "hash": "e73f10f3a4c6e7b6ed8fab30414118399f5ae61aefc92b3455eb8090db43be56"
  }
 },
 "nbformat": 4,
 "nbformat_minor": 2
}